{
  "nbformat": 4,
  "nbformat_minor": 0,
  "metadata": {
    "colab": {
      "provenance": []
    },
    "kernelspec": {
      "name": "python3",
      "display_name": "Python 3"
    },
    "language_info": {
      "name": "python"
    }
  },
  "cells": [
    {
      "cell_type": "markdown",
      "source": [
        "Task 1"
      ],
      "metadata": {
        "id": "zEinW86kX6yy"
      }
    },
    {
      "cell_type": "code",
      "execution_count": 4,
      "metadata": {
        "id": "WN7-pV2oDSqO"
      },
      "outputs": [],
      "source": [
        "# task 1-\n",
        "import numpy as np\n",
        "def init_q_table(n_states, n_actions):\n",
        "    return np.zeros((n_states,n_actions))\n",
        "\n",
        "def q_update(Q, s, a, r, s_next, α, γ):\n",
        "  max_q_next = np.max(Q[s_next])\n",
        "  Q[s,a]=Q[s,a]+α*(r+γ*max_q_next - Q[s,a])\n",
        "  return Q"
      ]
    },
    {
      "cell_type": "markdown",
      "source": [
        "Task 2"
      ],
      "metadata": {
        "id": "46TDxRGnZL_H"
      }
    },
    {
      "cell_type": "code",
      "source": [
        "import matplotlib.pyplot as plt\n",
        "class GridWorld():\n",
        " def __init__(self, size=4):\n",
        "        self.size = size\n",
        "        self.start = (0, 0)\n",
        "        self.terminal = (size - 1, size - 1)\n",
        "        self.reset()\n",
        "\n",
        " def reset(self):\n",
        "        self.agent_pos = self.start\n",
        "        return self.get_state()\n",
        " def get_state(self):\n",
        "        row, col = self.agent_pos\n",
        "        return row * self.size + col\n",
        "\n",
        " def step(self, action):\n",
        "\n",
        "        row, col = self.agent_pos\n",
        "\n",
        "        if action == 0 and row > 0: row -= 1      # going up\n",
        "        elif action == 1 and row < self.size - 1: row += 1  #going down\n",
        "        elif action == 2 and col > 0: col -= 1    #going left\n",
        "        elif action == 3 and col < self.size - 1: col += 1  #going right\n",
        "\n",
        "        self.agent_pos = (row, col)\n",
        "        next_state = self.get_state()\n",
        "        done = self.agent_pos == self.terminal\n",
        "        reward = 10 if done else -1 # reward is -1 for each step taken and 10 if it reaches the end\n",
        "\n",
        "        return next_state, reward, done\n",
        "\n",
        "def select_action(Q, state, epsilon):\n",
        "    if np.random.rand() < epsilon:\n",
        "        return np.random.randint(4)\n",
        "    else:\n",
        "        return np.argmax(Q[state])\n",
        "env = GridWorld()\n",
        "Q = np.zeros((16, 4))\n",
        "epsilon = 0.1\n",
        "alpha = 0.1\n",
        "gamma = 0.8\n",
        "n_episodes = 500\n",
        "\n",
        "rewards = []\n",
        "for episode in range(n_episodes):\n",
        "    state = env.reset()\n",
        "    total_reward = 0\n",
        "    done = False\n",
        "\n",
        "    while not done:\n",
        "        action = select_action(Q, state, epsilon)\n",
        "        next_state, reward, done = env.step(action)\n",
        "        Q = q_update(Q, state, action, reward, next_state, alpha, gamma)\n",
        "        state = next_state\n",
        "        total_reward += reward\n",
        "\n",
        "    rewards.append(total_reward)\n",
        "def moving_average(data, window_size=10):\n",
        "    return np.convolve(data, np.ones(window_size)/window_size, mode='valid')\n",
        "\n",
        "smoothed_rewards = moving_average(rewards)\n",
        "\n",
        "# env1 for epsilon = 0.2\n",
        "env1 = GridWorld()\n",
        "Q1 = np.zeros((16, 4))\n",
        "epsilon1 = 0.2\n",
        "alpha = 0.1\n",
        "gamma = 0.8\n",
        "n_episodes = 500\n",
        "\n",
        "rewards1 = []\n",
        "for episode in range(n_episodes):\n",
        "    state = env1.reset()\n",
        "    total_reward = 0\n",
        "    done = False\n",
        "\n",
        "    while not done:\n",
        "        action = select_action(Q1, state, epsilon1)\n",
        "        next_state, reward, done = env1.step(action)\n",
        "        Q1 = q_update(Q1, state, action, reward, next_state, alpha, gamma)\n",
        "        state = next_state\n",
        "        total_reward += reward\n",
        "\n",
        "    rewards1.append(total_reward)\n",
        "\n",
        "smoothed_rewards1 = moving_average(rewards1)\n",
        "\n",
        "plt.figure(figsize=(10, 5))\n",
        "plt.plot(smoothed_rewards, label='ε = 0.1')\n",
        "plt.plot(smoothed_rewards1, label='ε = 0.2')\n",
        "plt.title(\"Smoothed Episode Rewards for Different ε Values\")\n",
        "plt.xlabel(\"Episode\")\n",
        "plt.ylabel(\"Total Reward\")\n",
        "plt.grid(True)\n",
        "plt.legend()\n",
        "plt.show()"
      ],
      "metadata": {
        "colab": {
          "base_uri": "https://localhost:8080/",
          "height": 487
        },
        "id": "N-dTjw4JO8AU",
        "outputId": "696a9776-fe20-4a4d-f5f2-b9b5f3bbab16"
      },
      "execution_count": 5,
      "outputs": [
        {
          "output_type": "display_data",
          "data": {
            "text/plain": [
              "<Figure size 1000x500 with 1 Axes>"
            ],
            "image/png": "[encoded data removed]"
          },
          "metadata": {}
        }
      ]
    },
    {
      "cell_type": "markdown",
      "source": [
        "Task 3"
      ],
      "metadata": {
        "id": "qhRf2SoBbh_J"
      }
    },
    {
      "cell_type": "code",
      "source": [
        "import random\n",
        "class ReplayBuffer:\n",
        "    def __init__(self, capacity):\n",
        "        self.capacity = capacity\n",
        "        self.buffer = []\n",
        "        self.position = 0\n",
        "\n",
        "    def push(self, state, action, reward, next_state, done):\n",
        "        if len(self.buffer) < self.capacity:\n",
        "            self.buffer.append(None)\n",
        "\n",
        "        self.buffer[self.position] = (state, action, reward, next_state, done)\n",
        "        self.position = (self.position + 1) % self.capacity\n",
        "\n",
        "    def sample(self, batch_size):\n",
        "        batch = random.sample(self.buffer, batch_size)\n",
        "        states, actions, rewards, next_states, dones = zip(*batch)\n",
        "\n",
        "        return (\n",
        "            np.array(states),\n",
        "            np.array(actions),\n",
        "            np.array(rewards, dtype=np.float32),\n",
        "            np.array(next_states),\n",
        "            np.array(dones, dtype=np.bool_)\n",
        "        )\n",
        "\n",
        "    def __len__(self):\n",
        "        return len(self.buffer)"
      ],
      "metadata": {
        "id": "5S3cepggss_K"
      },
      "execution_count": 6,
      "outputs": []
    },
    {
      "cell_type": "code",
      "source": [
        "\n",
        "buffer = ReplayBuffer(capacity=100)\n",
        "\n",
        "for _ in range(100):\n",
        "    state = np.random.randint(0, 16)\n",
        "    action = np.random.randint(0, 4)\n",
        "    reward = np.random.uniform(-1, 1)\n",
        "    next_state = np.random.randint(0, 16)\n",
        "    done = np.random.choice([True, False])\n",
        "\n",
        "    buffer.push(state, action, reward, next_state, done)\n",
        "\n",
        "\n",
        "batch = buffer.sample(batch_size=32)\n",
        "states, actions, rewards, next_states, dones = batch\n",
        "\n",
        "\n",
        "print(\"States:\", states.shape, states.dtype)\n",
        "print(\"Actions:\", actions.shape, actions.dtype)\n",
        "print(\"Rewards:\", rewards.shape, rewards.dtype)\n",
        "print(\"Next States:\", next_states.shape, next_states.dtype)\n",
        "print(\"Dones:\", dones.shape, dones.dtype)"
      ],
      "metadata": {
        "colab": {
          "base_uri": "https://localhost:8080/"
        },
        "id": "_mf--qauzA8U",
        "outputId": "3675f179-9eca-4291-ea0c-ebbdb2688a59"
      },
      "execution_count": 7,
      "outputs": [
        {
          "output_type": "stream",
          "name": "stdout",
          "text": [
            "States: (32,) int64\n",
            "Actions: (32,) int64\n",
            "Rewards: (32,) float32\n",
            "Next States: (32,) int64\n",
            "Dones: (32,) bool\n"
          ]
        }
      ]
    },
    {
      "cell_type": "markdown",
      "source": [],
      "metadata": {
        "id": "ocn4oN_yeSNP"
      }
    },
    {
      "cell_type": "markdown",
      "source": [
        "Task 4"
      ],
      "metadata": {
        "id": "3HPLHDwabgic"
      }
    },
    {
      "cell_type": "code",
      "source": [
        "import torch\n",
        "import torch.nn as nn\n",
        "import torch.nn.functional as F\n",
        "class DQNNetwork(nn.Module):\n",
        "    def __init__(self, input_dim, output_dim):\n",
        "        super(DQNNetwork, self).__init__()\n",
        "        self.fc1 = nn.Linear(input_dim, 128)\n",
        "        self.fc2 = nn.Linear(128, 128)\n",
        "        self.fc3 = nn.Linear(128, output_dim)\n",
        "    def forward(self, x):\n",
        "      x = F.relu(self.fc1(x))\n",
        "      x = F.relu(self.fc2(x))\n",
        "      return self.fc3(x)\n",
        "\n",
        "class DQNPolicy(DQNNetwork):\n",
        "    def __init__(self, input_dim, output_dim):\n",
        "        super(DQNPolicy, self).__init__(input_dim, output_dim)\n",
        "class DQNTarget(DQNNetwork):\n",
        "    def __init__(self, input_dim, output_dim):\n",
        "        super(DQNTarget, self).__init__(input_dim, output_dim)\n",
        "def update_target(policy_net, target_net):\n",
        "    target_net.load_state_dict(policy_net.state_dict())\n",
        "\n"
      ],
      "metadata": {
        "id": "mh2oEgzU0nEZ"
      },
      "execution_count": 8,
      "outputs": []
    },
    {
      "cell_type": "markdown",
      "source": [
        "Task 5"
      ],
      "metadata": {
        "id": "PdKe13yDbjK6"
      }
    },
    {
      "cell_type": "code",
      "source": [
        "import gym\n",
        "import torch.optim as optim\n",
        "from collections import deque\n",
        "\n",
        "# reusing the functions defined in prev tasks\n",
        "class DQNNetwork(nn.Module):\n",
        "    def __init__(self, input_dim, output_dim):\n",
        "        super(DQNNetwork, self).__init__()\n",
        "        self.layers = nn.Sequential(\n",
        "            nn.Linear(input_dim, 128),\n",
        "            nn.ReLU(),\n",
        "            nn.Linear(128, 128),\n",
        "            nn.ReLU(),\n",
        "            nn.Linear(128, output_dim)\n",
        "        )\n",
        "\n",
        "    def forward(self, x):\n",
        "        return self.layers(x)\n",
        "\n",
        "class DQNPolicy(DQNNetwork):\n",
        "    def __init__(self, input_dim, output_dim):\n",
        "        super(DQNPolicy, self).__init__(input_dim, output_dim)\n",
        "\n",
        "class DQNTarget(DQNNetwork):\n",
        "    def __init__(self, input_dim, output_dim):\n",
        "        super(DQNTarget, self).__init__(input_dim, output_dim)\n",
        "\n",
        "def update_target(policy_net, target_net):\n",
        "    target_net.load_state_dict(policy_net.state_dict())\n",
        "\n",
        "import random\n",
        "\n",
        "class ReplayBuffer:\n",
        "    def __init__(self, capacity):\n",
        "        self.capacity = capacity\n",
        "        self.buffer = []\n",
        "        self.position = 0\n",
        "\n",
        "    def push(self, state, action, reward, next_state, done):\n",
        "        if len(self.buffer) < self.capacity:\n",
        "            self.buffer.append(None)\n",
        "        self.buffer[self.position] = (state, action, reward, next_state, done)\n",
        "        self.position = (self.position + 1) % self.capacity\n",
        "\n",
        "    def sample(self, batch_size):\n",
        "     batch = random.sample(self.buffer, batch_size)\n",
        "     state, action, reward, next_state, done = map(np.array, zip(*batch))\n",
        "\n",
        "     done = np.array(done, dtype=bool)\n",
        "\n",
        "     return (\n",
        "        torch.tensor(state, dtype=torch.float32),\n",
        "        torch.tensor(action, dtype=torch.int64),\n",
        "        torch.tensor(reward, dtype=torch.float32),\n",
        "        torch.tensor(next_state, dtype=torch.float32),\n",
        "        torch.tensor(done, dtype=torch.bool)\n",
        "    )\n",
        "\n",
        "    def __len__(self):\n",
        "        return len(self.buffer)\n",
        "\n",
        "\n",
        "env = gym.make(\"CartPole-v1\")\n",
        "\n",
        "input_dim = env.observation_space.shape[0]\n",
        "output_dim = env.action_space.n\n",
        "\n",
        "policy_net = DQNPolicy(input_dim, output_dim)\n",
        "target_net = DQNTarget(input_dim, output_dim)\n",
        "update_target(policy_net, target_net)\n",
        "\n",
        "# Optimizer and loss\n",
        "optimizer = optim.Adam(policy_net.parameters(), lr=1e-4)\n",
        "loss_fn = nn.MSELoss()\n",
        "\n",
        "# Initialize Replay Buffer\n",
        "buffer = ReplayBuffer(capacity=10000)\n",
        "\n",
        "N = 500  # number of episodes\n",
        "M = N    # decay over N episodes\n",
        "X = 5  # target update every X episodes\n",
        "batch_size = 32\n",
        "gamma = 0.99\n",
        "epsilon_start = 1.0\n",
        "epsilon_end = 0.01\n",
        "\n",
        "episode_rewards = []\n",
        "success_threshold = 195\n",
        "successes = 0\n",
        "\n",
        "for episode in range(N):\n",
        "    state = env.reset()\n",
        "    total_reward = 0\n",
        "    epsilon = max(epsilon_end, epsilon_start - (epsilon_start - epsilon_end) * episode / M)\n",
        "\n",
        "    done = False\n",
        "    while not done:\n",
        "        # ε-greedy policy\n",
        "        if random.random() < epsilon:\n",
        "            action = env.action_space.sample()\n",
        "        else:\n",
        "            with torch.no_grad():\n",
        "                state_tensor = torch.tensor(state, dtype=torch.float32).unsqueeze(0)\n",
        "                q_values = policy_net(state_tensor)\n",
        "                action = q_values.argmax().item()\n",
        "\n",
        "\n",
        "        next_state, reward, terminated, truncated = env.step(action)\n",
        "        done = terminated or truncated\n",
        "\n",
        "        buffer.push(state, action, reward, next_state, done)\n",
        "        state = next_state\n",
        "        total_reward += reward\n",
        "\n",
        "\n",
        "        if len(buffer) >= batch_size:\n",
        "            states, actions, rewards, next_states, dones = buffer.sample(batch_size)\n",
        "\n",
        "            q_values = policy_net(states).gather(1, actions.unsqueeze(1)).squeeze()\n",
        "\n",
        "            with torch.no_grad():\n",
        "                next_q_values = target_net(next_states).max(1)[0]\n",
        "                target_q = rewards + gamma * next_q_values * (~dones)\n",
        "\n",
        "\n",
        "            loss = loss_fn(q_values, target_q)\n",
        "            optimizer.zero_grad()\n",
        "            loss.backward()\n",
        "            optimizer.step()\n",
        "\n",
        "    episode_rewards.append(total_reward)\n",
        "\n",
        "    if total_reward >= success_threshold:\n",
        "        successes += 1\n",
        "\n",
        "\n",
        "    if (episode + 1) % X == 0:\n",
        "        update_target(policy_net, target_net)\n",
        "def moving_avg(data, window):\n",
        "    return np.convolve(data, np.ones(window)/window, mode='valid')\n",
        "\n",
        "window_size = N // 10\n",
        "plt.figure(figsize=(10,5))\n",
        "plt.plot(moving_avg(episode_rewards, window_size))\n",
        "plt.title(f\"Moving Average Reward (Window={window_size})\")\n",
        "plt.xlabel(\"Episode\")\n",
        "plt.ylabel(\"Total Reward\")\n",
        "plt.grid(True)\n",
        "plt.show()\n",
        "\n",
        "# Final success rate\n",
        "success_rate = 100 * successes / N\n",
        "print(f\"Final Success Rate: {success_rate:.2f}% of episodes had return >= 195\")"
      ],
      "metadata": {
        "id": "pnOv6DhX14uO"
      },
      "execution_count": null,
      "outputs": []
    },
    {
      "cell_type": "code",
      "source": [],
      "metadata": {
        "id": "nybP4Fsvox9-"
      },
      "execution_count": null,
      "outputs": []
    }
  ]
}